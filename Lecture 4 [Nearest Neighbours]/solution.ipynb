{
 "cells": [
  {
   "cell_type": "code",
   "execution_count": 1,
   "metadata": {},
   "outputs": [],
   "source": [
    "import numpy as np\n",
    "import pandas as pd\n",
    "#from sklearn import neighbors\n",
    "#from sklearn.model_selection import train_test_split"
   ]
  },
  {
   "cell_type": "code",
   "execution_count": 2,
   "metadata": {},
   "outputs": [],
   "source": [
    "class neighbors:\n",
    "    def __init__(self,n_neighbors,p):\n",
    "        self.n_neighbors = n_neighbors\n",
    "        self.p = p\n",
    "    \n",
    "    def KNeighborsClassifier():\n",
    "        return neighbors(5,2)\n",
    "    \n",
    "    def KNeighborsClassifier(n_neighbors):\n",
    "        return neighbors(n_neighbors,2)\n",
    "    \n",
    "    def KNeighborsClassifier(n_neighbors,p): \n",
    "        return neighbors(n_neighbors,p)\n",
    "        \n",
    "    def fit(self,x_train, y_train):\n",
    "        self.x = x_train\n",
    "        self.y = y_train\n",
    "        print(\"KNeighborsClassifier(p=\"+str(self.p)+\")\")\n",
    "        return\n",
    "    \n",
    "    def predict(self,x):\n",
    "        result = []\n",
    "        for xp in x:\n",
    "            listDist = []\n",
    "            for i in range(0,len(self.x)):\n",
    "                total = 0\n",
    "                for j in range(0,len(self.x[i])):\n",
    "                    total += abs(int(xp[j]) - int(self.x[i][j]))**self.p\n",
    "                listDist.append([total**(1/self.p),i])\n",
    "            listDist = sorted(listDist,key=lambda l:l[0])\n",
    "            listResult = []\n",
    "            maxIndex = 0\n",
    "            maxValue = 0\n",
    "            for j in listDist[0:self.n_neighbors]:\n",
    "                listResult.append(self.y[j[1]])\n",
    "            for i in list(pd.unique(y)):\n",
    "                if listResult.count(i) > maxValue:\n",
    "                    maxIndex = i\n",
    "                    maxValue = listResult.count(i)\n",
    "            result.append(maxIndex)\n",
    "        return result\n",
    "        \n",
    "    \n",
    "    def score(self,x_test,y_test):\n",
    "        count = 0\n",
    "        xp = self.predict(x_test)\n",
    "        for i in range(0,len(xp)):\n",
    "            if xp[i] == y_test[i]:\n",
    "                count += 1\n",
    "        return count/len(y_test)\n"
   ]
  },
  {
   "cell_type": "code",
   "execution_count": 3,
   "metadata": {},
   "outputs": [],
   "source": [
    "def train_test_split(x,y,test_size):\n",
    "    rand = np.random.rand(x.shape[0])\n",
    "    split = rand < np.percentile(rand,100 - (100*test_size))\n",
    "    x_train = x[split]\n",
    "    x_test = x[~split]\n",
    "    y_train = y[split]\n",
    "    y_test = y[~split]\n",
    "    return x_train, x_test, y_train, y_test"
   ]
  },
  {
   "cell_type": "code",
   "execution_count": 4,
   "metadata": {},
   "outputs": [],
   "source": [
    "df = pd.read_csv('breast-cancer-wisconsin.csv')"
   ]
  },
  {
   "cell_type": "code",
   "execution_count": 5,
   "metadata": {},
   "outputs": [],
   "source": [
    "df.rename(columns={'1000025':'id',\n",
    "                   '5' : 'Clump_Thickness',\n",
    "                   '1' : 'Uni_Cell_Size',\n",
    "                   '1.1' : 'Uni_Cell_Shape',\n",
    "                   '1.2' : 'Mar_Adhesion',\n",
    "                   '2' : 'Epith_Cell_Size',\n",
    "                   '1.3' : 'Bare_Nuclei',\n",
    "                   '3' : 'Bland_Chromatin',\n",
    "                   '1.4' : 'Normal_Nucleoli',\n",
    "                   '1.5' : 'Mitoses',\n",
    "                   '2.1' : 'Class'},inplace=True)\n",
    "df.replace('?',-99999,inplace=True)\n",
    "df.drop(['id'], 1,inplace=True)"
   ]
  },
  {
   "cell_type": "code",
   "execution_count": 6,
   "metadata": {},
   "outputs": [],
   "source": [
    "x = np.array(df.drop(['Class'], 1))\n",
    "y = np.array(df['Class'])"
   ]
  },
  {
   "cell_type": "code",
   "execution_count": 7,
   "metadata": {},
   "outputs": [],
   "source": [
    "x_train, x_test, y_train, y_test = train_test_split(x,y,test_size=0.2)"
   ]
  },
  {
   "cell_type": "code",
   "execution_count": 8,
   "metadata": {},
   "outputs": [],
   "source": [
    "h = neighbors.KNeighborsClassifier(n_neighbors=5, p=1)"
   ]
  },
  {
   "cell_type": "code",
   "execution_count": 9,
   "metadata": {},
   "outputs": [
    {
     "name": "stdout",
     "output_type": "stream",
     "text": [
      "KNeighborsClassifier(p=1)\n"
     ]
    }
   ],
   "source": [
    "h.fit(x_train, y_train)"
   ]
  },
  {
   "cell_type": "code",
   "execution_count": 10,
   "metadata": {
    "scrolled": true
   },
   "outputs": [],
   "source": [
    "new_x = np.array([4,6,5,6,7,8,4,9,1])"
   ]
  },
  {
   "cell_type": "code",
   "execution_count": 11,
   "metadata": {
    "scrolled": true
   },
   "outputs": [
    {
     "name": "stdout",
     "output_type": "stream",
     "text": [
      "[4]\n"
     ]
    }
   ],
   "source": [
    "result = h.predict(new_x.reshape(1,-1))\n",
    "print(result)"
   ]
  },
  {
   "cell_type": "code",
   "execution_count": 12,
   "metadata": {},
   "outputs": [
    {
     "name": "stdout",
     "output_type": "stream",
     "text": [
      "0.9571428571428572\n"
     ]
    }
   ],
   "source": [
    "print(h.score(x_test,y_test))"
   ]
  },
  {
   "cell_type": "code",
   "execution_count": null,
   "metadata": {},
   "outputs": [],
   "source": []
  }
 ],
 "metadata": {
  "kernelspec": {
   "display_name": "Python 3",
   "language": "python",
   "name": "python3"
  },
  "language_info": {
   "codemirror_mode": {
    "name": "ipython",
    "version": 3
   },
   "file_extension": ".py",
   "mimetype": "text/x-python",
   "name": "python",
   "nbconvert_exporter": "python",
   "pygments_lexer": "ipython3",
   "version": "3.8.3"
  }
 },
 "nbformat": 4,
 "nbformat_minor": 4
}
